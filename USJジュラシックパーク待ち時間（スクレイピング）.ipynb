{
  "nbformat": 4,
  "nbformat_minor": 0,
  "metadata": {
    "colab": {
      "name": "USJジュラシックパーク待ち時間（スクレイピング）.ipynb",
      "provenance": [],
      "authorship_tag": "ABX9TyOEFeKepRhGXk+0Oy84Lnz1",
      "include_colab_link": true
    },
    "kernelspec": {
      "name": "python3",
      "display_name": "Python 3"
    },
    "language_info": {
      "name": "python"
    }
  },
  "cells": [
    {
      "cell_type": "markdown",
      "metadata": {
        "id": "view-in-github",
        "colab_type": "text"
      },
      "source": [
        "<a href=\"https://colab.research.google.com/github/kameoman/python-lesson/blob/main/USJ%E3%82%B8%E3%83%A5%E3%83%A9%E3%82%B7%E3%83%83%E3%82%AF%E3%83%91%E3%83%BC%E3%82%AF%E5%BE%85%E3%81%A1%E6%99%82%E9%96%93%EF%BC%88%E3%82%B9%E3%82%AF%E3%83%AC%E3%82%A4%E3%83%94%E3%83%B3%E3%82%B0%EF%BC%89.ipynb\" target=\"_parent\"><img src=\"https://colab.research.google.com/assets/colab-badge.svg\" alt=\"Open In Colab\"/></a>"
      ]
    },
    {
      "cell_type": "code",
      "metadata": {
        "id": "CXP4z9Z0vfe8"
      },
      "source": [
        "import urllib3 \n",
        "from bs4 import BeautifulSoup\n",
        "import requests"
      ],
      "execution_count": 18,
      "outputs": []
    },
    {
      "cell_type": "code",
      "metadata": {
        "id": "xiZgf4N0vgkQ"
      },
      "source": [
        "url = \"http://usjinfo.com/attrWait.php?attr_id=2\""
      ],
      "execution_count": 70,
      "outputs": []
    },
    {
      "cell_type": "code",
      "metadata": {
        "colab": {
          "base_uri": "https://localhost:8080/"
        },
        "id": "HJqz0Bkrvgho",
        "outputId": "8395b477-13f7-4ec6-d813-43085e8a4a3c"
      },
      "source": [
        "http = urllib3.PoolManager()\n",
        "response = http.request(\"GET\",url)"
      ],
      "execution_count": 71,
      "outputs": [
        {
          "output_type": "stream",
          "name": "stderr",
          "text": [
            "/usr/local/lib/python3.7/dist-packages/urllib3/connectionpool.py:847: InsecureRequestWarning: Unverified HTTPS request is being made. Adding certificate verification is strongly advised. See: https://urllib3.readthedocs.io/en/latest/advanced-usage.html#ssl-warnings\n",
            "  InsecureRequestWarning)\n"
          ]
        }
      ]
    },
    {
      "cell_type": "markdown",
      "metadata": {
        "id": "Qiu3KJQAy6O2"
      },
      "source": [
        "リクエストが成功したかどうか確認"
      ]
    },
    {
      "cell_type": "code",
      "metadata": {
        "colab": {
          "base_uri": "https://localhost:8080/"
        },
        "id": "T-gPRAQyvgfQ",
        "outputId": "e924f3e9-633b-416c-d454-ca89b3b49618"
      },
      "source": [
        "print(response.status)"
      ],
      "execution_count": 72,
      "outputs": [
        {
          "output_type": "stream",
          "name": "stdout",
          "text": [
            "200\n"
          ]
        }
      ]
    },
    {
      "cell_type": "code",
      "metadata": {
        "id": "BPBRLTkQvgdP"
      },
      "source": [
        "data = BeautifulSoup(response.data, \"lxml\")"
      ],
      "execution_count": 73,
      "outputs": []
    },
    {
      "cell_type": "code",
      "metadata": {
        "id": "vijauqw7vga3"
      },
      "source": [
        "# data.find_all"
      ],
      "execution_count": null,
      "outputs": []
    },
    {
      "cell_type": "code",
      "metadata": {
        "colab": {
          "base_uri": "https://localhost:8080/"
        },
        "id": "DoyseX6u0xr4",
        "outputId": "b1106f8f-92c1-4efc-e211-4d0e785842f0"
      },
      "source": [
        "data.find_all(\"div\", attrs={\"class\": \"realtime_status\"})"
      ],
      "execution_count": 74,
      "outputs": [
        {
          "output_type": "execute_result",
          "data": {
            "text/plain": [
              "[<div class=\"realtime_status\">\n",
              "                             25分\n",
              "               </div>]"
            ]
          },
          "metadata": {},
          "execution_count": 74
        }
      ]
    },
    {
      "cell_type": "code",
      "metadata": {
        "id": "7foOP9L9vgYk"
      },
      "source": [
        "w_time = data.find_all(\"div\", attrs={\"class\": \"realtime_status\"})[0].string"
      ],
      "execution_count": 75,
      "outputs": []
    },
    {
      "cell_type": "code",
      "metadata": {
        "colab": {
          "base_uri": "https://localhost:8080/",
          "height": 35
        },
        "id": "k1slFqkd1DFs",
        "outputId": "9cfb5489-810a-43e4-ba07-d780d74b7c11"
      },
      "source": [
        "w_time"
      ],
      "execution_count": 76,
      "outputs": [
        {
          "output_type": "execute_result",
          "data": {
            "application/vnd.google.colaboratory.intrinsic+json": {
              "type": "string"
            },
            "text/plain": [
              "'\\n                            25分\\n              '"
            ]
          },
          "metadata": {},
          "execution_count": 76
        }
      ]
    },
    {
      "cell_type": "code",
      "metadata": {
        "id": "YhOAXw341DDS"
      },
      "source": [
        "w_time_int = int(w_time.split(\"分\")[0])"
      ],
      "execution_count": 77,
      "outputs": []
    },
    {
      "cell_type": "code",
      "metadata": {
        "colab": {
          "base_uri": "https://localhost:8080/"
        },
        "id": "HJnxRjxt1DBF",
        "outputId": "9faf3d6b-fbf2-4a66-ea64-6bdcde2d6af8"
      },
      "source": [
        "w_time_int"
      ],
      "execution_count": 78,
      "outputs": [
        {
          "output_type": "execute_result",
          "data": {
            "text/plain": [
              "25"
            ]
          },
          "metadata": {},
          "execution_count": 78
        }
      ]
    },
    {
      "cell_type": "code",
      "metadata": {
        "id": "1AX7eM6N68Wi"
      },
      "source": [
        "nowtime = data.find_all(\"h2\")[1].string"
      ],
      "execution_count": 91,
      "outputs": []
    },
    {
      "cell_type": "code",
      "metadata": {
        "id": "UjinZsvL7QVM"
      },
      "source": [
        "n_time = (nowtime.split(\">|<\")[0])"
      ],
      "execution_count": 92,
      "outputs": []
    },
    {
      "cell_type": "code",
      "metadata": {
        "colab": {
          "base_uri": "https://localhost:8080/",
          "height": 35
        },
        "id": "_LsZc_QN7eoh",
        "outputId": "b085bba2-1138-47eb-d753-e0fd602b48f7"
      },
      "source": [
        "n_time"
      ],
      "execution_count": 93,
      "outputs": [
        {
          "output_type": "execute_result",
          "data": {
            "application/vnd.google.colaboratory.intrinsic+json": {
              "type": "string"
            },
            "text/plain": [
              "'16時20分現在の待ち時間'"
            ]
          },
          "metadata": {},
          "execution_count": 93
        }
      ]
    },
    {
      "cell_type": "code",
      "metadata": {
        "colab": {
          "base_uri": "https://localhost:8080/"
        },
        "id": "Zue9bvZf1C-9",
        "outputId": "e0a0f372-88ad-4f33-9316-ea2017797d9b"
      },
      "source": [
        "data.find_all"
      ],
      "execution_count": 79,
      "outputs": [
        {
          "output_type": "execute_result",
          "data": {
            "text/plain": [
              "<bound method Tag.find_all of <!-- ヘッダー --><!DOCTYPE html PUBLIC \"-//W3C//DTD XHTML 1.0 Transitional//EN\" \"http://www.w3.org/TR/xhtml1/DTD/xhtml1-transitional.dtd\">\n",
              "<html lang=\"ja\" xml:lang=\"ja\" xmlns=\"http://www.w3.org/1999/xhtml\">\n",
              "<head>\n",
              "<meta content=\"application/xhtml+xml; charset=utf-8\" http-equiv=\"Content-Type\"/>\n",
              "<meta content=\"ユニバーサルスタジオジャパン(USJ)のリアルタイム待ち時間、混雑予想、過去の待ち時間、ショップ、レストラン情報など掲載してます。スマートフォン対応版のページもあります。\" name=\"description\"/>\n",
              "<meta content=\"USJ,ユニバーサルスタジオジャパン,待ち時間,混雑,アトラクション,リアルタイム,スマートフォン対応,スマフォ対応,スマホ対応,予想,予測\" name=\"keywords\"/>\n",
              "<title>ジュラシック・パーク・ザ・ライド(R)の待ち時間情報 | ユニバーサルスタジオジャパン待ち時間混雑情報</title>\n",
              "<link href=\"/css/style.css\" rel=\"stylesheet\" type=\"text/css\"/>\n",
              "<link href=\"/css/my_style.css\" rel=\"stylesheet\" type=\"text/css\"/>\n",
              "<link href=\"http://usjinfo.com/sp/wait/attrWait.php?attr_id=2\" media=\"only screen and(max-width:640px)\" rel=\"alternate\"/>\n",
              "<script language=\"javascript\" type=\"text/javascript\">\n",
              "      var vc_pid = \"884787545\";\n",
              "  </script><script src=\"//aml.valuecommerce.com/vcdal.js\" type=\"text/javascript\"></script>\n",
              "<script async=\"\" src=\"//pagead2.googlesyndication.com/pagead/js/adsbygoogle.js\"></script>\n",
              "<script>\n",
              "     (adsbygoogle = window.adsbygoogle || []).push({\n",
              "          google_ad_client: \"ca-pub-9672080258440700\",\n",
              "          enable_page_level_ads: true\n",
              "     });\n",
              "  </script>\n",
              "<meta content=\"ジュラシック・パーク・ザ・ライド(R)の待ち時間情報\" property=\"og:title\"/>\n",
              "<meta content=\"ＵＳＪのリアルタイムの待ち時間と過去の混雑情報を発信しています。\" property=\"og:description\"/>\n",
              "<meta content=\"website\" property=\"og:type\"/>\n",
              "<meta content=\"\" property=\"og:url\"/>\n",
              "<meta content=\"hogehoge\" property=\"og:image\"/>\n",
              "<meta content=\"USJ待ち時間･混雑情報\" property=\"og:site_name\"/>\n",
              "<meta content=\"292171421349004\" property=\"fb:app_id\"/>\n",
              "<meta content=\"ユニバーサルスタジオジャパンのアトラクションの待ち時間を元に混雑予想&gt;ができるサイト。アトラクションの人気ランキングや過去の&gt;待ち時間が調べられます。ご旅行の計画時にもご利用ください。アトラクション\n",
              "の人気ランキングも。\" name=\"description\"/>\n",
              "<meta content=\"USJ,ＵＳＪ,ユニバ,ユニバーサルスタジオジャパン,待ち時間,混雑,アトラクション,リアルタイム待ち時間,スマートフォン対応,人気ランキング,ジュラシック・パーク・ザ・ライド(R),アトラクションごとの待ち時間\" name=\"keywords\"/>\n",
              "<meta content=\"summary\" name=\"twitter:card\"/>\n",
              "<meta content=\"@eVsYyG6N7Kp0oE1\" name=\"twitter:site\"/>\n",
              "<script type=\"application/ld+json\">\n",
              "  {\n",
              "    \"@context\": \"http://schema.org\",\n",
              "    \"@type\": \"WebPage\",\n",
              "    \"name\": \"ＵＳＪ待ち時間混雑情報\",\n",
              "    \"description\": \"ユニバーサルスタジオジャパンの待ち時間と混雑情報を紹介しています。リアルタイム待ち時間や過去の待ち時間情報も掲載しています。\",\n",
              "    \"breadcrumb\": {\n",
              "     \"@context\": \"http://schema.org\",\n",
              "     \"@type\": \"BreadcrumbList\",\n",
              "     \"itemListElement\":\n",
              "     [\n",
              "  \n",
              "  {\n",
              "    \"@type\": \"ListItem\",\n",
              "    \"position\": 1,\n",
              "    \"item\":\n",
              "    {\n",
              "      \"@id\": \"{$domain}\",\n",
              "      \"name\": \"ホーム\"\n",
              "    }\n",
              "  }\n",
              "  \n",
              "      ,\n",
              "          {\n",
              "        \"@type\": \"ListItem\",\n",
              "                \"position\": 2,\n",
              "        \"item\":\n",
              "        {\n",
              "          \"@id\": \"realtime.php\",\n",
              "          \"name\": \"リアルタイム待ち時間\"\n",
              "        }\n",
              "      },\n",
              "        {\n",
              "      \"@type\": \"ListItem\",\n",
              "      \"position\": 3,\n",
              "      \"item\":\n",
              "      {\n",
              "        \"@id\": \"\",\n",
              "        \"name\": \"ジュラシック・パーク・ザ・ライド(R)の待ち時間情報\"\n",
              "      }\n",
              "    }\n",
              "  ]\n",
              "    }\n",
              "  }\n",
              "</script>\n",
              "</head>\n",
              "<body>\n",
              "<!-- メイン -->\n",
              "<div id=\"main\">\n",
              "<!-- ヘッダー -->\n",
              "<div id=\"header\">\n",
              "<h1>ユニバーサルスタジオジャパンの待ち時間情報を提供するサイトです。</h1>\n",
              "<table border=\"0\" cellpadding=\"0\" cellspacing=\"0\" width=\"1000\">\n",
              "<tr>\n",
              "<td><div id=\"table-left\"><h2><a href=\"/\">ユニバーサルスタジオジャパン待ち時間・混雑情報</a></h2></div></td>\n",
              "<td>\n",
              "<div class=\"ninja_onebutton\">\n",
              "<script type=\"text/javascript\">\n",
              "//<![CDATA[\n",
              "(function(d){\n",
              "if(typeof(window.NINJA_CO_JP_ONETAG_BUTTON_efa350949694bc995a2fcc8aa03ca8a5)=='undefined'){\n",
              "        document.write(\"<sc\"+\"ript type='text\\/javascript' src='https:\\/\\/omt.shinobi.jp\\/b\\/efa350949694bc995a2fcc8aa03ca8a5'><\\/sc\"+\"ript>\");\n",
              "}else{ \n",
              "    window.NINJA_CO_JP_ONETAG_BUTTON_efa350949694bc995a2fcc8aa03ca8a5.ONETAGButton_Load();}\n",
              "})(document);\n",
              "//]]>\n",
              "</script><span class=\"ninja_onebutton_hidden\" style=\"display:none;\"></span><span class=\"ninja_onebutton_hidden\" style=\"display:none;\"></span>\n",
              "</div>\n",
              "</td>\n",
              "</tr>\n",
              "</table>\n",
              "</div>\n",
              "<div id=\"header-menu\">\n",
              "<ul>\n",
              "<li><a href=\"/\">ホーム</a></li>\n",
              "<li><a href=\"/wait/realtime.php\">リアルタイム待ち時間</a></li>\n",
              "<li><a href=\"/wait/pre_callendar.php\">混雑予想カレンダー</a></li>\n",
              "<li><a href=\"/wait/callendar.php\">過去の混雑カレンダー</a></li>\n",
              "<li><a href=\"/wait/dateSelect.php\">過去の待ち時間</a></li>\n",
              "<li><a href=\"http://navi.usjinfo.com/\">攻略情報</a></li>\n",
              "<!--<li><a href=\"http://links.usjinfo.com/\">リンク集</a></li>-->\n",
              "<li><a href=\"http://blog.usjinfo.com/\">体験記</a></li>\n",
              "<!--<li><a href=\"/news/\">USJニュース</a></li>-->\n",
              "</ul>\n",
              "</div>\n",
              "<center>\n",
              "<ins class=\"adsbygoogle\" data-ad-client=\"ca-pub-9672080258440700\" data-ad-format=\"auto\" data-ad-slot=\"7431279682\" style=\"display:block\"></ins>\n",
              "<script>\n",
              "        (adsbygoogle = window.adsbygoogle || []).push({});\n",
              "      </script>\n",
              "</center>\n",
              "<!-- ヘッダー終わり -->\n",
              "<!-- ヘッダー終わり -->\n",
              "<!-- コンテンツ -->\n",
              "<!-- メインコンテンツ -->\n",
              "<div id=\"container\">\n",
              "<div id=\"middle\">\n",
              "<div id=\"contents\">\n",
              "<p>\n",
              "<a href=\"./\">ホーム</a>\n",
              "     &gt;\n",
              "    ジュラシック・パーク・ザ・ライド(R)の待ち時間情報\n",
              "</p>\n",
              "<h1>ジュラシック・パーク・ザ・ライド(R)の待ち時間情報</h1>\n",
              "<br/>\n",
              "<h2>16時20分現在の待ち時間</h2>\n",
              "<div class=\"realtime_status\">\n",
              "                            25分\n",
              "              </div>\n",
              "<br/>\n",
              "<h2>今日これまでの待ち時間</h2>\n",
              "<img src=\"./hourly_pictures/day/2_20210912.gif\" width=\"100%\"/>\n",
              "<h2>昨日の待ち時間</h2>\n",
              "<img src=\"./hourly_pictures/day/2_20210911.gif\" width=\"100%\"/>\n",
              "<h2>最近1年の休日の待ち時間</h2>\n",
              "<img src=\"./daily_pictures/year/2_newly_1_year_weekend_by_month.gif\" width=\"100%\"/>\n",
              "<h2>最近1年の平日の待ち時間</h2>\n",
              "<img src=\"./daily_pictures/year/2_newly_1_year_weekday_by_month.gif\" width=\"100%\"/>\n",
              "<h2>2013年晴/曇の待ち時間</h2>\n",
              "<img src=\"./daily_pictures/year/2_2013_fine_by_month.gif\" width=\"100%\"/>\n",
              "<h2>2014年晴/曇の待ち時間</h2>\n",
              "<img src=\"./daily_pictures/year/2_2014_fine_by_month.gif\" width=\"100%\"/>\n",
              "<h2>最近3週間の待ち時間(1日平均)</h2>\n",
              "<img src=\"./daily_pictures/week/2_newly_3_weeks.gif\" width=\"100%\"/>\n",
              "<br/><br/>\n",
              "<h2>日曜日の待ち時間</h2>\n",
              "<img src=\"hourly_pictures/wday/2_sun.gif\" width=\"100%\"/>\n",
              "<br/><br/>\n",
              "<h2>月曜日の待ち時間</h2>\n",
              "<img src=\"hourly_pictures/wday/2_mon.gif\" width=\"100%\"/>\n",
              "<br/><br/>\n",
              "<h2>火曜日の待ち時間</h2>\n",
              "<img src=\"hourly_pictures/wday/2_tue.gif\" width=\"100%\"/>\n",
              "<br/><br/>\n",
              "<h2>水曜日の待ち時間</h2>\n",
              "<img src=\"hourly_pictures/wday/2_wed.gif\" width=\"100%\"/>\n",
              "<br/><br/>\n",
              "<h2>木曜日の待ち時間</h2>\n",
              "<img src=\"hourly_pictures/wday/2_thu.gif\" width=\"100%\"/>\n",
              "<br/><br/>\n",
              "<h2>金曜日の待ち時間</h2>\n",
              "<img src=\"hourly_pictures/wday/2_fri.gif\" width=\"100%\"/>\n",
              "<br/><br/>\n",
              "<h2>土曜日の待ち時間</h2>\n",
              "<img src=\"hourly_pictures/wday/2_sat.gif\" width=\"100%\"/>\n",
              "<!--\n",
              "-->\n",
              "<!--\n",
              "  <li data-role=\"list-divider\">今日の現在までの待ち時間</li>\n",
              "  </ul>\n",
              "  <li>\n",
              "  <table>\n",
              "    </table>\n",
              "\n",
              "  </li>\n",
              "-->\n",
              "</div>\n",
              "<!-- メインコンテンツ終わり -->\n",
              "<!-- 左メニュー -->\n",
              "<!-- メニュー -->\n",
              "<div id=\"menu-left\">\n",
              "<div class=\"menulist\">\n",
              "<h2>待ち時間・混雑情報</h2>\n",
              "<a href=\"/wait/realtime.php\">リアルタイム待ち時間</a>\n",
              "<a href=\"/wait/pre_callendar.php\">混雑予想カレンダー</a>\n",
              "<a href=\"/wait/callendar.php\">過去の混雑カレンダー</a>\n",
              "<a href=\"/wait/graphs.php?type=three\">最近3週間の混雑情報</a>\n",
              "<a href=\"/wait/graphs.php?type=day\">今日これまでの待ち時間</a>\n",
              "<a href=\"/wait/graphs.php?type=day&amp;date=20210911\">昨日の待ち時間</a>\n",
              "<a href=\"/wait/graphs.php?type=year_monthly_dx&amp;year=2021\">2021年の月平均待ち時間</a>\n",
              "<a href=\"/wait/graphs.php?type=year_monthly_dx&amp;year=2020\">2020年の月平均待ち時間</a>\n",
              "<a href=\"/wait/graphs.php?type=year_monthly_dx&amp;year=2019\">2019年の月平均待ち時間</a>\n",
              "<a href=\"/wait/attrWait.php?attr_id=30\">ハリポタ・フォービドゥン</a>\n",
              "<a href=\"/wait/attrWait.php?attr_id=29\">ハリポタ・ヒッポグリフ</a>\n",
              "<a href=\"/wait/attrWait.php?attr_id=18\">スパイダーマン</a>\n",
              "<a href=\"/wait/attrWait.php?attr_id=13\">バックドロップ</a>\n",
              "<a href=\"/showSchedule.php\">ショースケジュール</a>\n",
              "</div>\n",
              "<div class=\"menulist\">\n",
              "<h2>お役立ち情報</h2>\n",
              "<a href=\"/ticket.php\">スタジオパス・エクスプレスパスについて</a>\n",
              "<a href=\"http://blog.usjinfo.com/category/%E3%83%8F%E3%83%AA%E3%83%BC%E3%83%9D%E3%83%83%E3%82%BF%E3%83%BC\">ハリーポッター体験記</a>\n",
              "<a href=\"/harry_potter.php\">ハリーポッターエリア概要</a>\n",
              "<a href=\"http://blog.usjinfo.com/category/%E3%81%8A%E3%81%99%E3%81%99%E3%82%81%E3%82%A2%E3%83%88%E3%83%A9%E3%82%AF%E3%82%B7%E3%83%A7%E3%83%B3\">みんなのおすすめアトラクション</a>\n",
              "<a href=\"http://blog.usjinfo.com/category/%E3%81%8A%E3%81%99%E3%81%99%E3%82%81%E3%83%AC%E3%82%B9%E3%83%88%E3%83%A9%E3%83%B3\">みんなのおすすめレストラン</a>\n",
              "<a href=\"http://blog.usjinfo.com/category/%E3%82%BF%E3%82%A4%E3%83%A0%E3%82%B9%E3%82%B1%E3%82%B8%E3%83%A5%E3%83%BC%E3%83%AB\">タイムスケジュール</a>\n",
              "</div>\n",
              "<!-- サイドバナー -->\n",
              "<div class=\"adsense\">\n",
              "<ins class=\"adsbygoogle\" data-ad-client=\"ca-pub-9672080258440700\" data-ad-format=\"auto\" data-ad-slot=\"7431279682\" style=\"display:block\"></ins>\n",
              "<script>\n",
              "    (adsbygoogle = window.adsbygoogle || []).push({});\n",
              "  </script>\n",
              "</div>\n",
              "<!-- ランキング情報 -->\n",
              "<div class=\"menulist\">\n",
              "<h2>ランキング情報</h2>\n",
              "<a href=\"/wait/rank.php?type=yesterday\">昨日の人気</a>\n",
              "<a href=\"/wait/rank.php?type=thisMonth\">今月の人気</a>\n",
              "<a href=\"/wait/rank.php?type=lastMonth\">先月の人気</a>\n",
              "<a href=\"/wait/rank.php?type=thisYear\">今年の人気</a>\n",
              "</div>\n",
              "</div>\n",
              "<!-- メニュー終わり -->\n",
              "<!-- 左メニュー終わり -->\n",
              "</div><!-- middle END -->\n",
              "<!-- 右メニュー -->\n",
              "<!-- メニュー -->\n",
              "<div id=\"menu-right\">\n",
              "<!--\n",
              "<div class=\"menulist\">\n",
              "  <h2>ハリーポッター</h2>\n",
              "  <a href=\"/harry_potter_attr.php\">ハリーポッターのアトラクション</a>\n",
              "  <a href=\"/harry_potter_rest.php\">ハリーポッターのレストラン</a>\n",
              "  <a href=\"/harry_potter_shop.php\">ハリーポッターのショップ</a>\n",
              "</div>\n",
              "-->\n",
              "<div class=\"menulist\">\n",
              "<h2>施設情報</h2>\n",
              "<a href=\"/wait/attr.php\">アトラクション一覧</a>\n",
              "<a href=\"/wait/rest.php\">レストラン一覧</a>\n",
              "<a href=\"/wait/shop.php\">ショップ一覧</a>\n",
              "</div>\n",
              "<!--\n",
              "<div class=\"menulist\">\n",
              "  <h2>リンク集</h2>\n",
              "  <a href=\"/links/\">リンク集TOP</a>\n",
              "  <a href=\"/links/site/list/1\">ブログ集</a>\n",
              "  <a href=\"/links/site/list/3\">ニュース</a>\n",
              "  <a href=\"/links/site/list/7\">公式リンク集</a>\n",
              "</div>\n",
              "-->\n",
              "<div class=\"menulist\">\n",
              "<h2>攻略情報</h2>\n",
              "<a href=\"http://navi.usjinfo.com/?page_id=5\">チケット情報</a>\n",
              "<a href=\"http://navi.usjinfo.com/?page_id=7\">エクスプレス情報</a>\n",
              "<a href=\"http://navi.usjinfo.com/?page_id=11\">駐車場情報</a>\n",
              "</div>\n",
              "<div class=\"menulist\">\n",
              "<h2>アトラクションランキング</h2>\n",
              "<a href=\"/wait/rank.php?type=yesterday\">昨日のランキング</a>\n",
              "<a href=\"/wait/rank.php?type=lastMonth\">先月のランキング</a>\n",
              "<a href=\"/wait/rank.php?type=thisYear\">今年のランキング</a>\n",
              "</div>\n",
              "<div class=\"menulist\">\n",
              "<h2>関連情報</h2>\n",
              "<a href=\"/wait/link.php\">関連リンク</a>\n",
              "<a href=\"http://navi.usjinfo.com/\">ＵＳＪナビ</a>\n",
              "<!-- <a href=\"http://links.usjinfo.com/\">ＵＳＪリンク集</a> -->\n",
              "<a href=\"http://tokyodisneyresort.info/\">ディズニー混雑情報</a>\n",
              "<a href=\"http://fujiq.info/\">富士急混雑情報</a>\n",
              "</div>\n",
              "</div>\n",
              "<!-- メニュー終わり -->\n",
              "<!-- 右メニュー終わり -->\n",
              "</div><!-- container END -->\n",
              "<!-- コンテンツ終わり -->\n",
              "<!-- フッター -->\n",
              "<!-- フッター -->\n",
              "<div id=\"footer\">\n",
              "<a href=\"index.php\">HOME</a> | <a href=\"link.php\">リンク</a>\n",
              "<!--\n",
              " ｜ <a href=\"service.html\">商品カテゴリ</a> ｜ <a href=\"#\">お支払い・配送について</a> ｜ <a href=\"#\">通信販売法に基づく表示</a> ｜ <a href=\"#\">プライバシーポリシー</a> ｜ <a href=\"link.html\">リンク</a> ｜ <a href=\"#\">会社概要</a> ｜ <a href=\"contact.html\">お問い合わせ</a>\n",
              "-->\n",
              "<br/>\n",
              "<br/>\n",
              "Copyright (C) 2013 nanjaku.com All Rights Reserved.　design by <a href=\"http://tempnate.com/\">tempnate</a>\n",
              "</div>\n",
              "<!-- フッター終わり -->\n",
              "<!-- フッター終わり -->\n",
              "</div>\n",
              "<!-- メイン終わり -->\n",
              "<script>\n",
              "  (function(i,s,o,g,r,a,m){i['GoogleAnalyticsObject']=r;i[r]=i[r]||function(){\n",
              "  (i[r].q=i[r].q||[]).push(arguments)},i[r].l=1*new Date();a=s.createElement(o),\n",
              "  m=s.getElementsByTagName(o)[0];a.async=1;a.src=g;m.parentNode.insertBefore(a,m)\n",
              "  })(window,document,'script','//www.google-analytics.com/analytics.js','ga');\n",
              "\n",
              "  ga('create', 'UA-43261318-3', 'auto');\n",
              "  ga('send', 'pageview');\n",
              "</script>\n",
              "</body>\n",
              "</html>\n",
              ">"
            ]
          },
          "metadata": {},
          "execution_count": 79
        }
      ]
    },
    {
      "cell_type": "code",
      "metadata": {
        "id": "utEfQToU1C8n"
      },
      "source": [
        ""
      ],
      "execution_count": null,
      "outputs": []
    }
  ]
}